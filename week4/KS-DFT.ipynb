{
 "cells": [
  {
   "cell_type": "markdown",
   "id": "d378eed4",
   "metadata": {},
   "source": [
    "### Exploring The Implementation of KS-DFT"
   ]
  },
  {
   "cell_type": "markdown",
   "id": "aee80325",
   "metadata": {},
   "source": [
    "#### References\n",
    "Theory: <br>\n",
    "https://www.southampton.ac.uk/assets/centresresearch/documents/compchem/DFT_L7.pdf <br>\n",
    "https://github.com/slipchenko/CHM673/tree/master/lectures <br>\n",
    "Jensen Chapter 6\n",
    "\n",
    "Implementation: <br>\n",
    "https://github.com/psi4/psi4numpy/tree/master/Tutorials/03_Hartree-Fock <br>\n",
    "https://github.com/psi4/psi4numpy/tree/master/Tutorials/04_Density_Functional_Theory <br>\n",
    "particularly 3a,3b,4a,4b"
   ]
  },
  {
   "cell_type": "markdown",
   "id": "67d23b28",
   "metadata": {},
   "source": [
    "Last week we wrapped up our discussion on HF by finishing our derivation of the HF and Roothaan equations, briefly looked at the computational implementation of HF, and introduced basis sets. This week the tutorial will focus on KS-DFT, starting from the KS Energy functional, with the goal of learning how KS-DFT is computationally implemented, while drawing comparisons to our HF discussion."
   ]
  },
  {
   "cell_type": "markdown",
   "id": "109dfb87",
   "metadata": {},
   "source": [
    "### Kohn-Sham Equations"
   ]
  },
  {
   "cell_type": "markdown",
   "id": "cdd2bfbc",
   "metadata": {},
   "source": [
    "Traditionally we write the KS Energy in the following way: <br>\n",
    "$$ E_{KS}[n]=T_{S}[n]+E_{ext}+E_H + E_{XC}               $$ <br>\n",
    "We can rewrite this using slightly different notation: <br>\n",
    "$$ E_{KS}[n]=T_{S}[n]+E_{Ne}+J + E_{XC} $$ <br>\n",
    "And compare to the HF Energy we saw last week,\n",
    "$$ E_{HF}=T+E_{Ne}+J-K $$\n",
    "We see that from this perspective, HF and KS-DFT are very similiar. And in fact, because we take this orbital based approach, they are even more similiar: Both HF and KS-DFT can be seen as minimizing their respective energy functionals with the constraint that their respetive orbitals remain orthonormal. Moreover, we in fact solve this minimization problem the same way we did last week for HF, using Lagrangian multipliers. \n",
    "\n",
    "First we write our Lagrangian:\n",
    "$$ \\Omega_{KS}[n]=E_{KS}[n]-2\\sum_{i=1}^{N_{elec}/2} \\sum_{j=1}^{N_{elec}/2} \\epsilon_{ij} \\big(\\int \\phi_i^*(r)\\phi_j(r)dr-\\delta_{ij}\\big) $$ <br>\n",
    "and vary our Lagrangian wrt. the orbitals st. we find the stationary point:\n",
    "$$  \\frac{\\delta\\Omega_{KS}[n]}{\\delta\\phi_j^*(r)} = 0   $$\n",
    "Remember, the goal is to find the set of orthogonal orbitals which yield the lowest energy\n",
    "\n",
    "And using the chain rule: <br>\n",
    "$$\\frac{\\delta\\Omega_{KS}[n]}{\\delta\\phi_j^*(r)} = \\frac{\\delta\\Omega_{KS}[n]}{\\delta n(r)} \\frac{\\delta n(r)}{\\delta\\phi_j^*(r)}   $$\n",
    "\n",
    "$$\\frac{\\delta n(r)}{\\delta\\phi_j^*(r)} = 2 \\phi_j$$"
   ]
  },
  {
   "cell_type": "markdown",
   "id": "af1116d6",
   "metadata": {},
   "source": [
    "Ultimately we are left with the following 1 electron schrodinger equations, known as the Kohn-Sham Equations:\n",
    "$$ \\big(\\frac{-1}{2}\\nabla^2 +\\big(\\frac{\\delta E_{coul}}{\\delta n} + \\frac{\\delta E_{ext}}{\\delta n} + \\frac{\\delta E_{XC}}{\\delta n}   \\big) \\big)\\psi_j(r) = \\epsilon_j \\psi_j(r)  $$\n",
    "\n",
    "$$  \\big( \\frac{-1}{2}\\nabla^2 +\\nu_s \\big)\\psi_j(r) = \\epsilon_j\\psi_j(r)   $$\n",
    "Where $\\psi$ is the unitarily transformed $\\phi$ s.t. the electron density is identical, but the matrix of lagrange multipliers is diagonal."
   ]
  },
  {
   "cell_type": "markdown",
   "id": "9c5618ee",
   "metadata": {},
   "source": [
    "Analogous to HF we define a 1 electron operator <br>\n",
    "\n",
    "$\\hat{h}_{KS}= \\frac{-1}{2}\\nabla^2+\\nu_s$\n",
    "\n",
    "$ \\hat{h}_{KS}\\psi_j(r) = \\epsilon_j(r)\\psi_j(r) $\n",
    "\n",
    "This is again a pseduo-eigenvalue problem, and we solve it almost identically to the HF method, in which we make an inital guess at our orbitals, solve the KS-equations for new orbitals, and repeat until self-consistency. The details of which we will now outline."
   ]
  },
  {
   "cell_type": "markdown",
   "id": "6d65633a",
   "metadata": {},
   "source": [
    "### Implementation"
   ]
  },
  {
   "cell_type": "markdown",
   "id": "b6ecc4cc",
   "metadata": {},
   "source": [
    "We will pick some basis set $\\{\\chi_\\mu \\}$to represent our KS orbitals $\\psi$\n",
    "$$\\psi_i = \\sum_\\mu^{K}c_{\\mu i}\\chi_\\mu$$\n",
    "\n",
    "We can then rewrite our KS Equations into a matrix equation:\n",
    "$$h_{KS}C = SC\\epsilon   $$\n",
    "This is nearly identical to the Roothan equations, in fact our $h_{KS}$ has identical 1-electron and coulomb components, and differs only in the exchange-correlation component, whose matrix components are (in general) given by:\n",
    "\n",
    "$$\\int \\chi_\\mu(r)V_{XC}\\big[n(r),\\nabla n(r)\\big]\\chi_\\nu(r) dr  $$\n",
    "\n",
    "Which must be evaluated numerically on a grid with G points:\n",
    "\n",
    "$$\\sum_k^G V_{XC}\\big[n(r_k),\\nabla n(r_k)\\big]\\chi_\\mu(r_k) \\chi_\\nu(r_k) \\Delta v_k $$\n",
    "\n",
    "We wont get into as much detail as last week in our implementation of the DFT SCF method, many of the details are analagous to the HF SCF cycle. Instead, I hope to outline the key components of the SCF cycle, allowing PySCF/libxc to handle the more complicated aspects."
   ]
  },
  {
   "cell_type": "markdown",
   "id": "b79ee147",
   "metadata": {},
   "source": [
    "#### Lets try!\n",
    "\n",
    "The general scheme will be similiar to how the HF SCF scheme was implemented, but we define a different Fock operator, using the LDA Exchange-Correlation potential instead of the exact exchange."
   ]
  },
  {
   "cell_type": "code",
   "execution_count": 1,
   "id": "4d67608d",
   "metadata": {},
   "outputs": [
    {
     "name": "stderr",
     "output_type": "stream",
     "text": [
      "/depot/awasser/apps/psi4_1.8_pyscf_2.3.0/lib/python3.8/site-packages/pyscf/dft/libxc.py:772: UserWarning: Since PySCF-2.3, B3LYP (and B3P86) are changed to the VWN-RPA variant, the same to the B3LYP functional in Gaussian and ORCA (issue 1480). To restore the VWN5 definition, you can put the setting \"B3LYP_WITH_VWN5 = True\" in pyscf_conf.py\n",
      "  warnings.warn('Since PySCF-2.3, B3LYP (and B3P86) are changed to the VWN-RPA variant, '\n"
     ]
    }
   ],
   "source": [
    "from pyscf import gto, dft, scf\n",
    "import numpy as np"
   ]
  },
  {
   "cell_type": "code",
   "execution_count": 8,
   "id": "c73244a1",
   "metadata": {},
   "outputs": [
    {
     "name": "stdout",
     "output_type": "stream",
     "text": [
      "converged SCF energy = -73.7996544212561\n"
     ]
    }
   ],
   "source": [
    "mol = gto.M(atom =f\"\"\"\n",
    "    O 1 \n",
    "    H 1 0.74\n",
    "    H 1 0.74 2 104\n",
    "\"\"\", basis = 'sto-3g', spin=0, charge=0, verbose=3)\n",
    "#Here we use the sto-3g basis for simplicity4\n",
    "\n",
    "# Let us do a normal PySCF DFT calculation for reference\n",
    "mydft = dft.RKS(mol)\n",
    "mydft.xc = 'lda'\n",
    "mydft.kernel()\n",
    "D_ref = mydft.make_rdm1()\n",
    "\n",
    "#Let us define the following integrals using pyscf\n",
    "T = mol.intor('int1e_kin') \n",
    "V = mol.intor('int1e_nuc') \n",
    "S = mol.intor('int1e_ovlp')\n",
    "I = mol.intor('int2e')\n",
    "\n",
    "#our core hamiltonian\n",
    "H=T+V\n",
    "\n",
    "#we need to construct the matrix that diagonalizes S\n",
    "e, U = np.linalg.eigh(S)\n",
    "A = U @ np.diag(e**-0.5) @ U.T\n",
    "\n",
    "#We are doing a restricted calculation, so each orbital contains 2 electrons\n",
    "ndocc= mol.nelectron // 2"
   ]
  },
  {
   "cell_type": "code",
   "execution_count": 5,
   "id": "2383bce2",
   "metadata": {},
   "outputs": [],
   "source": [
    "# Initial guess at D using just H_core \n",
    "\n",
    "F_p = A.dot(H).dot(A)\n",
    "# Diagonalize F_p for eigenvalues & eigenvectors with NumPy\n",
    "e, C_p = np.linalg.eigh(F_p)\n",
    "# Transform C_p back into AO basis\n",
    "C = A.dot(C_p)\n",
    "# Grab occupied orbitals\n",
    "C_occ = C[:, :ndocc]\n",
    "# Build density matrix from occupied orbitals\n",
    "D = 2 * np.einsum('pi,qi->pq', C_occ, C_occ, optimize=True)"
   ]
  },
  {
   "cell_type": "markdown",
   "id": "2bf4678a",
   "metadata": {},
   "source": [
    "In fact, the naive SCF procedure can be quite poor at converging, and there have been several methods developed to help iterative solutions converge faster, one of the most ubiqutious being Direct Inversion of the Iterative Subspace (DIIS). DIIS is the default method for scf calculations in PySCF, and the SCF calculation below struggles to converge without some accelerated convergence method. DIIS might be the topic of a future tutorial, so dont get too focused on the details of it here. If you are interested, check out psi4 tutorial 3b, and https://en.wikipedia.org/wiki/DIIS."
   ]
  },
  {
   "cell_type": "code",
   "execution_count": 9,
   "id": "360b805a",
   "metadata": {},
   "outputs": [
    {
     "name": "stdout",
     "output_type": "stream",
     "text": [
      "==> Starting SCF Iterations <==\n",
      "\n",
      "SCF Iteration   1: Energy = -73.7996544212542176 dE = -7.37997E+01 dRMS = 5.51968E-07\n",
      "SCF Iteration   2: Energy = -73.7996544212555676 dE = -1.35003E-12 dRMS = 3.11610E-07\n",
      "\n",
      "SCF converged.\n",
      "Final RHF Energy: -73.7996544212556 [Eh]\n"
     ]
    }
   ],
   "source": [
    "# Begin SCF Iterations\n",
    "print('==> Starting SCF Iterations <==\\n')\n",
    "E_old = 0.0\n",
    "\n",
    "#this is for DIIS\n",
    "# Trial & Residual Vector Lists\n",
    "F_list = []\n",
    "DIIS_RESID = []\n",
    "\n",
    "\n",
    "# Maximum SCF iterations\n",
    "MAXITER = 40\n",
    "# Energy convergence criterion\n",
    "E_conv = 1.0e-8\n",
    "D_conv = 1.0e-6\n",
    "\n",
    "for scf_iter in range(1, MAXITER + 1):\n",
    "    # Build Fock matrix\n",
    "    #print(D)\n",
    "    J = np.einsum('pqrs,rs->pq', I, D, optimize=True)\n",
    "    ni = dft.numint.NumInt()\n",
    "    n, exc, vxc = ni.nr_rks(mol, mydft.grids, 'lda', D)\n",
    "    F = H + J + vxc\n",
    "\n",
    "    H_E = np.sum(D * H)\n",
    "    J_E = 0.5 * np.sum(D * J)\n",
    "    \n",
    "    # Build DIIS Residual\n",
    "    diis_r = A.dot(F.dot(D).dot(S) - S.dot(D).dot(F)).dot(A)\n",
    "    # Append trial & residual vectors to lists\n",
    "    F_list.append(F)\n",
    "    DIIS_RESID.append(diis_r)\n",
    "    \n",
    "    \n",
    "    SCF_E = H_E + J_E + exc + mol.energy_nuc()\n",
    "    dE = SCF_E - E_old\n",
    "    dRMS = np.mean(diis_r**2)**0.5\n",
    "    print('SCF Iteration %3d: Energy = %4.16f dE = % 1.5E dRMS = %1.5E' % (scf_iter, SCF_E, dE, dRMS))\n",
    "\n",
    "    # Check for convergence\n",
    "    if (abs(dE) < E_conv) and (dRMS < D_conv):\n",
    "        break\n",
    "    E_old = SCF_E\n",
    "    \n",
    "    #DIIS procedure\n",
    "    if scf_iter >= 2:\n",
    "        # Build B matrix\n",
    "        B_dim = len(F_list) + 1\n",
    "        B = np.empty((B_dim, B_dim))\n",
    "        B[-1, :] = -1\n",
    "        B[:, -1] = -1\n",
    "        B[-1, -1] = 0\n",
    "        for i in range(len(F_list)):\n",
    "            for j in range(len(F_list)):\n",
    "                B[i, j] = np.einsum('ij,ij->', DIIS_RESID[i], DIIS_RESID[j], optimize=True)\n",
    "\n",
    "        # Build RHS of Pulay equation \n",
    "        rhs = np.zeros((B_dim))\n",
    "        rhs[-1] = -1\n",
    "        \n",
    "        # Solve Pulay equation for c_i's with NumPy\n",
    "        coeff = np.linalg.solve(B, rhs)\n",
    "        \n",
    "        # Build DIIS Fock matrix\n",
    "        F = np.zeros_like(F)\n",
    "        for x in range(coeff.shape[0] - 1):\n",
    "            F += coeff[x] * F_list[x]\n",
    "    \n",
    "\n",
    "    \n",
    "    # Compute new orbital guess\n",
    "    F_p = A.dot(F).dot(A)\n",
    "    e, C_p = np.linalg.eigh(F_p)\n",
    "    C = A.dot(C_p)\n",
    "    C_occ = C[:, :ndocc]\n",
    "    D = 2* np.einsum('pi,qi->pq', C_occ, C_occ, optimize=True)\n",
    "\n",
    "# Post iterations\n",
    "print('\\nSCF converged.')\n",
    "print(f'Final RHF Energy: {SCF_E:.13f} [Eh]')"
   ]
  },
  {
   "cell_type": "markdown",
   "id": "5a0cb500",
   "metadata": {},
   "source": [
    "### Homework\n",
    "* Why do we need to solve the KS equations self consistently?\n",
    "\n",
    "\n",
    "* Effect of the basis set\n",
    "    * How does changing the size of basis set change our energy (higher/lower?)\n",
    "    * How many basis functions does H2O have with STO-3G. How many primitive gaussians?\n",
    "    * What are the dimensions of our Fock matrix?\n",
    "        * how does changing the basis set affect the Fock matrix\n",
    "    * does changing the basis set affect convergence?\n",
    "        * does it affect the speed of each iteration?\n",
    "    * What is the limiting factor in the scope of an SCF calculation?\n",
    "    \n",
    "    \n",
    "* Effect of the inital guess\n",
    "    * how does the inital guess for D affect convergence? try different inital guesses and see how they converge\n",
    "    \n",
    "    \n",
    "    \n",
    "* Last week we did Geometry Optimization of the HeH+ dimer, can you do the same geometry optimzation, this time using DFT? What are the differences?\n",
    "\n",
    "\n",
    "* Think of a situation where our SCF procedure might fail, Can you set up a calculation that fails to converge? feel free to modify the molecule, geometry, initial guess, and convergence criteria.\n",
    "\n",
    "\n",
    "* can you extract the molecular orbital energies? \n",
    "    * What does the number of molecular orbitals depend on?\n",
    "        * How many molecular orbitals do we have for H2O with STO-3G? \n",
    "            * How many are negative in energy? \n",
    "        * How many molecular orbitals do we have for H2O with aug-cc-pvdz? \n",
    "            * How many are negative in energy? \n",
    "* Can you Create a Z-matrix for H3O+?\n",
    "\n",
    "    mol = gto.M(atom =f\"\"\"\n",
    "    O 1 \n",
    "    H 1 0.74\n",
    "    H 1 0.74 2 104\n",
    "    H 1 0.74 2 104 ?\n",
    "    \"\"\", basis = 'sto-3g', spin=0, charge=1, verbose=3)'\n",
    "    \n",
    "* can you run an H3O+ geometry calculation?"
   ]
  },
  {
   "cell_type": "code",
   "execution_count": null,
   "id": "2bb23f45",
   "metadata": {},
   "outputs": [],
   "source": []
  }
 ],
 "metadata": {
  "kernelspec": {
   "display_name": "psi4_1.8_pyscf_2.3.0",
   "language": "python",
   "name": "psi4_1.8_pyscf_2.3.0-py3.8.5"
  },
  "language_info": {
   "codemirror_mode": {
    "name": "ipython",
    "version": 3
   },
   "file_extension": ".py",
   "mimetype": "text/x-python",
   "name": "python",
   "nbconvert_exporter": "python",
   "pygments_lexer": "ipython3",
   "version": "3.8.5"
  }
 },
 "nbformat": 4,
 "nbformat_minor": 5
}
