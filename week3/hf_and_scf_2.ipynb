{
 "cells": [
  {
   "cell_type": "markdown",
   "id": "255f6a0f",
   "metadata": {},
   "source": [
    "### HF and SCF method part 2"
   ]
  },
  {
   "cell_type": "markdown",
   "id": "0b1f0628",
   "metadata": {},
   "source": [
    "Last time we derived the Hartree energy and Hartree Fock energy and briefly overviewed how we will variationally find the Best HF energy. Today, we will finish our discussion on the HF/SCF method by focusing on the iterative procedure and computational implementation"
   ]
  },
  {
   "cell_type": "markdown",
   "id": "9c4b6bfa",
   "metadata": {},
   "source": [
    "last time we found that:"
   ]
  },
  {
   "cell_type": "markdown",
   "id": "4e270ef0",
   "metadata": {},
   "source": [
    "$$ E_{HF} = <\\Psi_{SD}|\\hat{H}_{elec}|\\Psi_{SD}> = \\sum_i^N h_i + \\frac{1}{2}\\sum_i^N\\sum_j^N J_{ij} - K_{ij} $$"
   ]
  },
  {
   "cell_type": "markdown",
   "id": "9e5b4501",
   "metadata": {},
   "source": [
    "And remember that our Spin orbitals χ comprise of a spin and spatial component, and are orthonormal:"
   ]
  },
  {
   "cell_type": "markdown",
   "id": "77237147",
   "metadata": {},
   "source": [
    "$$ \\chi(x) = \\psi(r)s(\\omega)          $$ <br>\n",
    "$$ <\\chi_i|\\chi_j> = \\delta_{ij}       $$ <br>            "
   ]
  },
  {
   "cell_type": "markdown",
   "id": "ac2bf95e",
   "metadata": {},
   "source": [
    "Our scheme for solving the ground state electronic schrodinger problem using HF will look something like this:\n",
    "1. define HF energy as a function of spin orbitals\n",
    "2. Write equation which minimizes HF energy wrt. spin orbitals\n",
    "3. Solve this equation for the best orbitals"
   ]
  },
  {
   "cell_type": "markdown",
   "id": "05f79662",
   "metadata": {},
   "source": [
    "In our quest to solve the electronic schrodinger equation, we are attempting to seperate our many-electron hamiltonian and wavefunction into one-electron components, last time we did this for our wavefunction, and now we continue to seperate the two electron integrals (teis). This is the mean-field approximation, where we have an electron feel the average field of the other electrons. In return for this simplification, we sacrifice our ability to capture correlated electron motion.\n",
    "\n",
    "\"in an exact theory, the coulomb interaction is represented by the two-electorn operators 1/r_12. In the Hartree or Hartree-Fock approximation... the two-electron potential 1/r_12 felt by electron 1 and assoicated with the instaneous position of electron 2 is thus replaced by a one electron potential, obtained by averaging the interaction 1/r_12  of electron 1 and electron 2, over all space and spin coordinates x_2 of electron 2...\" (szabo pg 112)"
   ]
  },
  {
   "cell_type": "markdown",
   "id": "8ee01968",
   "metadata": {},
   "source": [
    "Using this approximation, we then define The Coulomb operator and Exchange Operator:"
   ]
  },
  {
   "cell_type": "markdown",
   "id": "0cc27598",
   "metadata": {},
   "source": [
    "Columb operator, \"Average local potential for an electron (2) in orbital χ_j due to charge distribution of an electron occupying χ_i\""
   ]
  },
  {
   "cell_type": "markdown",
   "id": "e12280a5",
   "metadata": {},
   "source": [
    "$$ \\hat{J}_i  = \\int dx_1 \\chi_i^*(x_1)\\frac{1}{r_{12}}\\chi_i(x_1)  = <\\chi_i(x_1)| \\frac{1}{r_{12}}|\\chi_i(x_1)>      $$"
   ]
  },
  {
   "cell_type": "markdown",
   "id": "a9bb0d49",
   "metadata": {},
   "source": [
    "$$ \\hat{J}_i|\\chi_j(2)>  = \\int dx_1 \\chi_i^*(x_1)\\frac{1}{r_{12}}\\chi_i(x_1) \\chi_j(x_2) = <\\chi_i(x_1)| \\frac{1}{r_{12}}|\\chi_i(x_1)> | \\chi_j(x_2)> $$"
   ]
  },
  {
   "cell_type": "markdown",
   "id": "a99e0f36",
   "metadata": {},
   "source": [
    "And the Exchange Operator. \" No classical analogue. A repulsive potential for an electron (2) due to electron (1) if they are of the same spin\""
   ]
  },
  {
   "cell_type": "markdown",
   "id": "7f262180",
   "metadata": {},
   "source": [
    "$$ \\hat{K}_i  = \\int dx_1 \\chi_i^*(x_1)\\frac{1}{r_{12}}\\chi_j(x_1) = <\\chi_i(x_1)| \\frac{1}{r_{12}}|\\chi_j(x_1)>     $$"
   ]
  },
  {
   "cell_type": "markdown",
   "id": "55f7c452",
   "metadata": {},
   "source": [
    "$$ \\hat{K}_i|\\chi_j(2)>  = \\int dx_1 \\chi_i^*(x_1)\\frac{1}{r_{12}}\\chi_j(x_1) \\chi_i(x_2) = <\\chi_i(x_1)| \\frac{1}{r_{12}}|\\chi_j(x_1)> | \\chi_i(x_2)>       $$"
   ]
  },
  {
   "cell_type": "markdown",
   "id": "580a4627",
   "metadata": {},
   "source": [
    "This lets us rewrite our E_HF into the following:"
   ]
  },
  {
   "cell_type": "markdown",
   "id": "ca01998c",
   "metadata": {},
   "source": [
    "$$ E_{HF} = \\sum_i^{N_{elec}}<\\chi_i| \\hat{h}_i|\\chi_i> + \\frac{1}{2} \\sum_i^{N_{elec}} \\sum_j^{N_{elec}} (<\\chi_j | \\hat{J}_i|\\chi_j> - <\\chi_j | \\hat{K}_i|\\chi_j>)        $$"
   ]
  },
  {
   "cell_type": "markdown",
   "id": "556662e1",
   "metadata": {},
   "source": [
    "Recall that we wish to minimize the HF energy by varying the spin orbitals χ, with the constraint that different spin orbitals remain orthonormal. We can use Lagranian multipliers to solve this minimization problem. a full derivation can be found in szabo chapter 3.2"
   ]
  },
  {
   "cell_type": "markdown",
   "id": "0288ad1d",
   "metadata": {},
   "source": [
    "$$ L[\\{\\chi_i\\}]= E_{HF}[\\{\\chi_i\\}] - \\sum_{ij}^N \\lambda_{ij} (<\\chi_i|\\chi_j>-\\delta_{ij})$$"
   ]
  },
  {
   "cell_type": "markdown",
   "id": "d2d0f8fc",
   "metadata": {},
   "source": [
    "and find:"
   ]
  },
  {
   "cell_type": "markdown",
   "id": "f7f1cc40",
   "metadata": {},
   "source": [
    "$$ \\delta L[\\{\\chi_i\\}] = 0 $$"
   ]
  },
  {
   "cell_type": "markdown",
   "id": "f70164a8",
   "metadata": {},
   "source": [
    "$$ \\delta E_{HF}[\\{\\chi_i\\}] = \\sum_i^N (<\\delta \\chi_i|\\hat{h}_i|\\chi_i> + <\\chi_i|\\hat{h}_i|\\delta \\chi_i>) + \\sum_{ij}^N (< \\delta \\chi_i| \\hat{J}_j-\\hat{K}_j|\\chi_i> + <\\chi_i| \\hat{J}_j-\\hat{K}_j|\\delta \\chi_i>)              $$"
   ]
  },
  {
   "cell_type": "markdown",
   "id": "392f102b",
   "metadata": {},
   "source": [
    "define the Fock operator as:"
   ]
  },
  {
   "cell_type": "markdown",
   "id": "9c192078",
   "metadata": {},
   "source": [
    "$$ \\hat{f}_i = \\hat{h}_i + \\sum_j^N(\\hat{J}_j-\\hat{K}_j)     $$"
   ]
  },
  {
   "cell_type": "markdown",
   "id": "a84ddd9b",
   "metadata": {},
   "source": [
    "and so:"
   ]
  },
  {
   "cell_type": "markdown",
   "id": "c8bb2299",
   "metadata": {},
   "source": [
    "$$ \\delta E_{HF}[\\{\\chi_i\\}] = \\sum_i^N ( <\\delta \\chi_i|\\hat{f}_i|\\chi_i> + <\\chi_i|\\hat{f}_i|\\delta \\chi_i> ) $$"
   ]
  },
  {
   "cell_type": "markdown",
   "id": "0b8b3c52",
   "metadata": {},
   "source": [
    "using the fact that:"
   ]
  },
  {
   "cell_type": "markdown",
   "id": "095d1087",
   "metadata": {},
   "source": [
    "$$ <\\chi_i| \\delta \\chi_j> = <\\delta \\chi_j | \\chi_i>^* $$"
   ]
  },
  {
   "cell_type": "markdown",
   "id": "7af83bfc",
   "metadata": {},
   "source": [
    "$$ \\delta L[\\{\\chi_i\\}] = \\sum_i^N  <\\delta \\chi_i|\\hat{f}_i|\\chi_i> - \\sum_{ij}^N \\lambda_{ij} <\\delta \\chi_i|\\chi_j> + \\big{[}\\sum_i^N  <\\delta \\chi_i|\\hat{f}_i|\\chi_i>^* - \\sum_{ij}^N \\lambda_{ji}^* <\\delta \\chi_j|\\chi_i>^*\\big{]} = 0  $$"
   ]
  },
  {
   "cell_type": "markdown",
   "id": "ce03aed0",
   "metadata": {},
   "source": [
    "$$ \\hat{f}_i |\\chi_i> = \\sum_j^{N_{elec}} \\lambda_{ij} |\\chi_i> $$"
   ]
  },
  {
   "cell_type": "markdown",
   "id": "05b2c637",
   "metadata": {},
   "source": [
    "since lambda is hermitian, we can find some unitary transform U that diagonalizes lambda"
   ]
  },
  {
   "cell_type": "markdown",
   "id": "f2eb044c",
   "metadata": {},
   "source": [
    "$$ \\chi_i' = \\sum_k \\chi_k U_{ki}        $$"
   ]
  },
  {
   "cell_type": "markdown",
   "id": "b9d8f455",
   "metadata": {},
   "source": [
    "This leaves us with the Hartree-Fock equations expressed as a pseudo-eigenvalue problem, since the fock operator is a functional of the spin orbitals, which is what we are trying to find:"
   ]
  },
  {
   "cell_type": "markdown",
   "id": "cc31b493",
   "metadata": {},
   "source": [
    "$$ \\hat{f}_i |\\chi_i'> =\\epsilon_i |\\chi_i'> $$"
   ]
  },
  {
   "cell_type": "markdown",
   "id": "cd6bd17f",
   "metadata": {},
   "source": [
    "We have now seperated the unsolvable many-electron problem into an approximate solution comprised of N 1-electron problems."
   ]
  },
  {
   "cell_type": "markdown",
   "id": "6e396253",
   "metadata": {},
   "source": [
    "However, since we need some inital guess at χ to find χ, we need to solve this eigenvalue problem self consistently. Our scheme will look something like this:\n",
    "1. make inital guess of 2K spin orbitals (K= number of spatial orbitals)\n",
    "2. calculate the fock operator for each spin orbital\n",
    "3. solve the HF Eigenvalue problem for a new set of spin orbitals\n",
    "4. repeat 1-3 until the spin orbitals no longer change"
   ]
  },
  {
   "cell_type": "markdown",
   "id": "76aa4a2e",
   "metadata": {},
   "source": [
    "The expectation value of the fock operator is the orbital energy, but note that the sum of the orbital energies is not E_HF!"
   ]
  },
  {
   "cell_type": "markdown",
   "id": "01c13409",
   "metadata": {},
   "source": [
    "$$ \\epsilon_i = <\\chi_i|\\hat{f}_i|\\chi_i> = h_i + \\sum_j^N (J_{ij}-K_{ij}) $$ <br>\n",
    "$$ E_{HF}= \\sum_i^N \\epsilon_i - \\frac{1}{2}\\sum_{ij}^N(J_{ij}-K_{ij})                  $$"
   ]
  },
  {
   "cell_type": "markdown",
   "id": "581a62b7",
   "metadata": {},
   "source": [
    "### Basis sets and computational implementation"
   ]
  },
  {
   "cell_type": "markdown",
   "id": "0ec37336",
   "metadata": {},
   "source": [
    "In order to solve the hartree fock equations on a computer, we need to introduce a basis set which represents our spin orbitals. "
   ]
  },
  {
   "cell_type": "markdown",
   "id": "a784594d",
   "metadata": {},
   "source": [
    "$$ \\chi_i = \\sum_{\\mu=1}^K C_{\\mu i}\\phi_{\\mu i}      $$"
   ]
  },
  {
   "cell_type": "markdown",
   "id": "467ef04e",
   "metadata": {},
   "source": [
    "If we plug this into our hartree-fock equation we end up with the Roothaan Equation:"
   ]
  },
  {
   "cell_type": "markdown",
   "id": "6a7d91e8",
   "metadata": {},
   "source": [
    "$$\\hat{f}(x_1) \\sum_\\nu C_{\\nu i} \\phi_\\nu(x_1) = \\epsilon_i \\sum_\\nu C_{\\nu i}\\phi_\\nu (x_1)$$"
   ]
  },
  {
   "cell_type": "markdown",
   "id": "8b399909",
   "metadata": {},
   "source": [
    "left multiply by the c.c. of phi_mu and integrate over x_1:"
   ]
  },
  {
   "cell_type": "markdown",
   "id": "6fa2dcb0",
   "metadata": {},
   "source": [
    "$$\\sum_\\nu C_{\\nu i} \\int dx_1 \\phi^*_\\mu(x_1) \\hat{f}(x_1) \\phi^*_{\\nu}(x_1) = \\epsilon_i \\sum_\\nu C_{\\nu i} \\int dx_1 \\phi^*_\\mu(x_1) \\phi^*_{\\nu}(x_1) $$"
   ]
  },
  {
   "cell_type": "markdown",
   "id": "9e0692e6",
   "metadata": {},
   "source": [
    "Now let us define 2 new matrices, the Fock matrix F and the overlap matrix S:"
   ]
  },
  {
   "cell_type": "markdown",
   "id": "a3922cd9",
   "metadata": {},
   "source": [
    "$$ F_{\\mu \\nu} = \\int dx_1 \\phi^*_\\mu(x_1) \\hat{f}(x_1) \\phi^*_{\\nu}(x_1)               $$ <br>\n",
    "$$ S_{\\mu \\nu} = \\int dx_1 \\phi^*_\\mu(x_1) \\phi^*_{\\nu}(x_1) $$"
   ]
  },
  {
   "cell_type": "markdown",
   "id": "62b7a8f5",
   "metadata": {},
   "source": [
    "This now lets us write the compact form of the roothaan equations:"
   ]
  },
  {
   "cell_type": "markdown",
   "id": "ba2bfe5d",
   "metadata": {},
   "source": [
    "$$ FC = SC\\epsilon   $$"
   ]
  },
  {
   "cell_type": "markdown",
   "id": "f88055b9",
   "metadata": {},
   "source": [
    "Remember that The S matrix, the matrix that quantifies the overlap of basis functions, is the identity if our basis functions are orthogonal. Therefore, if we orthogonalize the basis functions, we will be left with:"
   ]
  },
  {
   "cell_type": "markdown",
   "id": "9c8deb31",
   "metadata": {},
   "source": [
    "$$ FC = C \\epsilon $$"
   ]
  },
  {
   "cell_type": "markdown",
   "id": "f4f98cff",
   "metadata": {},
   "source": [
    "The basis functions are guranteed to be orthogonalizable, but the details are left to section 3.4.5 in Szabo\n",
    "\n",
    "We have now turned the set of integro-differential equations into a matrix diagonalization problem!"
   ]
  },
  {
   "cell_type": "markdown",
   "id": "7246c2f1",
   "metadata": {},
   "source": [
    "Lastly, in the computational implementation, the Fock matrix F is defined a little differently:"
   ]
  },
  {
   "cell_type": "markdown",
   "id": "ae9fa3fa",
   "metadata": {},
   "source": [
    "$$ F^{(i)}_{\\mu \\nu} = H_{\\mu\\nu}^{core} + \\sum_{pq} P_{pq} G_{\\mu \\nu p q} $$"
   ]
  },
  {
   "cell_type": "markdown",
   "id": "8f1d6eda",
   "metadata": {},
   "source": [
    "where $ G_{\\mu \\nu p q} $ is the difference of Coulomb and exchange integrals and $P_{pq}$ is the density matrix."
   ]
  },
  {
   "cell_type": "markdown",
   "id": "6fe1a3bc",
   "metadata": {},
   "source": [
    "and $P_{pq} = \\sum_{N_{elec}}^j C_{pj} C_{qj} $  "
   ]
  },
  {
   "cell_type": "markdown",
   "id": "f98beed8",
   "metadata": {},
   "source": [
    "Now we will outline in a bit more depth how to solve for the variationally best Hartree-Fock orbitals by solving the Roothaan equations"
   ]
  },
  {
   "cell_type": "markdown",
   "id": "43ddc46c",
   "metadata": {},
   "source": [
    "$\\text{1. Specify: } \\{R_A\\}, \\{Z_A\\},N_{Elec}\\text{, and a basis set } {\\phi_\\mu}   $ <br>\n",
    "$\\text{2. Form overlap matrix S} $ <br>\n",
    "$\\text{3. Make initial guess for the density matrix} $ <br>\n",
    "$\\text{4. Form Fock matrix F} $ <br>\n",
    "$\\text{5. Solve }FC = C \\epsilon  $ <br>\n",
    "$\\text{6. Using new molecular orbital coeffiecnts C, compute new density matrix} $ <br>\n",
    "$\\text{7. Repeat from step 4 until Density matrix no longer changes} $ <br>"
   ]
  },
  {
   "cell_type": "markdown",
   "id": "d0d17f4a",
   "metadata": {},
   "source": [
    "The details of the implementation is given in the homework, Szabo ch 3 gives a great amount of detail as well."
   ]
  },
  {
   "cell_type": "markdown",
   "id": "d0b02955",
   "metadata": {},
   "source": [
    "### What is a basis function anyways?"
   ]
  },
  {
   "cell_type": "markdown",
   "id": "09165591",
   "metadata": {},
   "source": [
    "There are two main types of basis functions: <br>\n",
    "Slater Type Orbitals (STOs), of the form: <br>\n",
    "$\\psi_{abc}^{STO}(x,y,z)= N x^ay^bz^ce^{-\\zeta r}$ <br>\n",
    "$\\zeta$ = width, N-normalization, L=a+b+c - angular momemntum <br>\n",
    "these are exact for the H atom, but lack radial nodes <br>\n",
    "\n",
    "we also have Gaussian Type Orbitals (GTOs):<br>\n",
    "$\\psi_{abc}^{GTO}(x,y,z)= N x^ay^bz^ce^{-\\zeta r^2}$ <br>\n",
    "these are no longer exact for H, but the integrals are semi-analytical"
   ]
  },
  {
   "cell_type": "markdown",
   "id": "6bad7b7b",
   "metadata": {},
   "source": [
    "Often basis sets will use GTOs, but will use a mixing of different gaussians to better resemble an STO, but it is still only 1 basis function.<br>\n",
    "in a minimal basis set, we use one basis function (which could be comprised of 1 or several gaussians) to represent each atomic orbital.<br>\n",
    "\n",
    "so for example, in Hydrogen we only have the 1s orbital, so we have 1 b.f.<br>\n",
    "In the case of Neon we have 1s, 2s, 2px, 2py, 2pz orbitals, so we need 5 b.f. <br>\n",
    "\n",
    "in the basis set STO-3G, each basis function is represented with 3 GTOs, to approximate a single STO\n",
    "\n",
    "Using a single b.f. for each atomic orbital is too small for chemical accuracy. In chemistry, orbitals deform, and with one b.f. we can not account for any deformation of shape. Therefore, we wish to add additional b.f. to each atomic orbital to give it the flexibility to deform to better approximate the real spatial orbitals\n",
    "\n",
    "For example we have a double zeta basis set such as cc-pvDz or 6-31G<br>\n",
    "cc-pvdz: Correlation consistent, polarized, valence, Double Zeta, For Ne: 1s, 2s, 2s', 2p, 2p' + 3d(polarization) , ~15 basis functions <br>\n",
    "6-31G: pople basis format, 6 before '-' indicates 1 basis function of 6 gaussians for Core electrons. 2 b.f.s of 3 and 1 gaussians for valence electrons.\n",
    "\n",
    "Moreover, we can add polarization and diffuse functions <br>\n",
    "this is the P in PVNZ. <br>\n",
    "this is included in pople basis sets in a few ways, <br>\n",
    "6-31G* - polarization for non hydrogen <br>\n",
    "6-31G** polarization for non-hydrogens + hydrogens <br>\n",
    "or explicilty which functions: 6-31G** = 6-31G(d,p)\n",
    "\n",
    "Diffuse functions begin with aug- for cc (aug-cc-pvdz) <br>\n",
    "or with + or ++ in pople (6+31G, 6++31G)\n",
    "\n",
    "If you see different results in different programs, check whether the basis set is implement in spherical or cartesian coordinates"
   ]
  },
  {
   "cell_type": "markdown",
   "id": "ac984196",
   "metadata": {},
   "source": [
    "Now you (hopefully) have the tools to learn the rest of the HF Implementation yourself, in the homework for this week is a program used in chm673 (I think written by Victor) that implements the SCF procedure to calcalaute the HF energy of HeH+ from (almost) scratch. you will need to do a little playing around with the program, which will give you a better sense of how the procedure works."
   ]
  },
  {
   "cell_type": "code",
   "execution_count": null,
   "id": "1979ea2d",
   "metadata": {},
   "outputs": [],
   "source": []
  }
 ],
 "metadata": {
  "kernelspec": {
   "display_name": "psi4_1.8_pyscf_2.3.0",
   "language": "python",
   "name": "psi4_1.8_pyscf_2.3.0-py3.8.5"
  },
  "language_info": {
   "codemirror_mode": {
    "name": "ipython",
    "version": 3
   },
   "file_extension": ".py",
   "mimetype": "text/x-python",
   "name": "python",
   "nbconvert_exporter": "python",
   "pygments_lexer": "ipython3",
   "version": "3.8.5"
  }
 },
 "nbformat": 4,
 "nbformat_minor": 5
}
