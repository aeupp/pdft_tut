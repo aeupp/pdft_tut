{
 "cells": [
  {
   "cell_type": "markdown",
   "id": "2ceb7064",
   "metadata": {},
   "source": [
    "## Hartree Fock (HF) and Self-Consistent Field (SCF) method; how does it work part 1"
   ]
  },
  {
   "cell_type": "markdown",
   "id": "c8d715c7",
   "metadata": {},
   "source": [
    "#### I hope to introduce HF and the SCF method, two of the most important concepts in computational quantum chemistry"
   ]
  },
  {
   "cell_type": "markdown",
   "id": "9a30b982",
   "metadata": {},
   "source": [
    "## References and Resources\n",
    "\n",
    "I can highly suggest the following resources for learning about HF/SCF\n",
    "\n",
    "* https://insilicosci.com/hartree-fock-method-a-simple-explanation/ <br>\n",
    "* Szabo Chapter 3 + Appendix A and B <br>\n",
    "*673 slides for HF\n",
    "https://github.com/slipchenko/CHM673/tree/master/lectures"
   ]
  },
  {
   "cell_type": "markdown",
   "id": "06736ada",
   "metadata": {},
   "source": [
    "lets start with a pretty ubiqutious equation:"
   ]
  },
  {
   "cell_type": "markdown",
   "id": "91568c4c",
   "metadata": {},
   "source": [
    "$$ \\hat{H} \\Psi = E \\Psi $$"
   ]
  },
  {
   "cell_type": "markdown",
   "id": "e483c8aa",
   "metadata": {},
   "source": [
    "We can break down our Hamiltonian into the following components"
   ]
  },
  {
   "cell_type": "markdown",
   "id": "044a0a49",
   "metadata": {},
   "source": [
    "$$ \\hat{H}=-\\sum_{i=1}^{N}\\frac{1}{2}\\nabla_i^{2} - \\sum_{A=1}^{M}\\frac{1}{2M_A}\\nabla_A^{2}-\\sum_{i=1}^{N}\\sum_{A=1}^{M}\\frac{Z_A}{r_{iA}}+\\sum_{i=1}^{N}\\sum_{j>i}^{N}\\frac{1}{r_{ij}}+\\sum_{A=1}^{M}\\sum_{B>A}^{M}\\frac{Z_AZ_B}{R_{AB}} $$"
   ]
  },
  {
   "cell_type": "markdown",
   "id": "63b4531e",
   "metadata": {},
   "source": [
    "                                    e K.E.  Nu K.E.     e-Nu attraction   e-e repulsion   Nu-Nu repulsion"
   ]
  },
  {
   "cell_type": "markdown",
   "id": "54f8fa07",
   "metadata": {},
   "source": [
    "We apply the Born-Oppenheimer (BO) approximation to decouple motion of electrons and Nuclei as Nuclei are much heavier than the electrons, and thus stationary from the perspective of the electrons (Nu K.E. = 0). Therefore we will treat the Nuclei classically, and focus on solving the Electronic schrodinger equation, where the Energy of the electrons parametrically depends on the position of the Nuclei, which are fixed in place.\n",
    "\n",
    "Side note: BO approximation is not always valid espically when the Nuclei are moving \"fast\". See BO slides in CHM 673 or Szabo book BO chapter"
   ]
  },
  {
   "cell_type": "markdown",
   "id": "2cab789b",
   "metadata": {},
   "source": [
    "$$ \\hat{H}_{elec}= -\\sum_{i=1}^{N}\\frac{1}{2}\\nabla_i^2 -\\sum_{i=1}^{N}\\sum_{A=1}^{M}\\frac{Z_A}{r_{iA}}+\\sum_{i=1}^{N}\\sum_{j>i}^{N}\\frac{1}{r_{ij}} $$"
   ]
  },
  {
   "cell_type": "markdown",
   "id": "34d75e46",
   "metadata": {},
   "source": [
    "We then have the electronic Schrodinger equation, to which we can add our constant (for a given geometry) Nu-Nu repulsion to achieve the total energy "
   ]
  },
  {
   "cell_type": "markdown",
   "id": "83445d6b",
   "metadata": {},
   "source": [
    "$$ \\hat{H}_{elec} \\Psi_{elec} = E_{elec} \\Psi_{elec} $$"
   ]
  },
  {
   "cell_type": "markdown",
   "id": "7a57ddad",
   "metadata": {},
   "source": [
    "$$ E_{tot}=E_{elec}+\\sum_{A=1}^{M}\\sum_{B>A}^{M}\\frac{Z_AZ_B}{R_{AB}} $$"
   ]
  },
  {
   "cell_type": "markdown",
   "id": "bee4a77c",
   "metadata": {},
   "source": [
    "Although by seperating the nuclei and electrons we have made the problem easier, we still can not solve this many-electron problem directly. Therefore, we need some way to seperate the many-electron problem into several 1-electron problems <br>\n",
    "\n",
    "Also note,  that we need to include the spin of an electron into its coordinates"
   ]
  },
  {
   "cell_type": "markdown",
   "id": "ac854141",
   "metadata": {},
   "source": [
    "$$ x=(r,\\omega) $$"
   ]
  },
  {
   "cell_type": "markdown",
   "id": "18842b86",
   "metadata": {},
   "source": [
    "                                                  spatial coord ^  ^ spin coord"
   ]
  },
  {
   "cell_type": "markdown",
   "id": "3b0ef925",
   "metadata": {},
   "source": [
    "We can imagine how to seperate out the Many-electron Hamiltonian into the sum of 1-electron hamiltonians if we either:\n",
    "* ignore electron-electon repulsion </br>\n",
    "or\n",
    "* h(x_i) includes electron - electron repulsion in some average way\n",
    "\n",
    "let us be lazy and ignore eletron-electron repulsion for now. If we do, then we could do the following:"
   ]
  },
  {
   "cell_type": "markdown",
   "id": "1800a8f5",
   "metadata": {},
   "source": [
    "$$ \\hat{H} = \\sum_{i=1}^{N}\\hat{h}(x_i) $$"
   ]
  },
  {
   "cell_type": "markdown",
   "id": "d61dd9c2",
   "metadata": {},
   "source": [
    "Lets also assume that we can seperate our many-electron Wavefunction into the Product of 1 electron Wave functions, and moreover that these are spin orbitals orthogonal to eachother"
   ]
  },
  {
   "cell_type": "markdown",
   "id": "05c2f6d6",
   "metadata": {},
   "source": [
    "$$\\Psi_{HP}(x_1,x_2,....x_N) = \\chi_i(x_1)\\chi_j(x_2)...\\chi_k(x_N)           $$"
   ]
  },
  {
   "cell_type": "markdown",
   "id": "6221d815",
   "metadata": {},
   "source": [
    "This is called a Hartree Product, which is one of the simplest ways to solve the Electronic schrodinger equation, however, it has a severe problem in that it does not properly describe the antisymmetry of fermions.<br>\n",
    "we shall see in a moment how the Hartree product wavefunction can be improved upon, but first let us dive deeper into the Hartree product wavefunction"
   ]
  },
  {
   "cell_type": "markdown",
   "id": "2016fa64",
   "metadata": {},
   "source": [
    "$$ \\hat{H}_{elec} = \\sum_{i=1}\\hat{h}(x_i) +\\sum_{i<j} \\frac{1}{r_{ij}} $$"
   ]
  },
  {
   "cell_type": "markdown",
   "id": "513f41f0",
   "metadata": {},
   "source": [
    "$$ \\hat{h}(x_i)= -\\frac{1}{2}\\nabla^2_i - \\sum_A \\frac{Z_A}{r_{iA}} $$"
   ]
  },
  {
   "cell_type": "markdown",
   "id": "697e7a23",
   "metadata": {},
   "source": [
    "Then we can find the Hartree energy by finding the expectation of H_elec with our Hartree product wavefunction"
   ]
  },
  {
   "cell_type": "markdown",
   "id": "1315d4b1",
   "metadata": {},
   "source": [
    "$$ <\\Psi_{HP}|\\hat{H}_{elec}|\\Psi_{HP}>         $$"
   ]
  },
  {
   "cell_type": "markdown",
   "id": "e44f51e8",
   "metadata": {},
   "source": [
    "In the case of 2 electrons, this leaves us with:"
   ]
  },
  {
   "cell_type": "markdown",
   "id": "648a291c",
   "metadata": {},
   "source": [
    "$$ <\\Psi_{HP}|\\hat{h}(x_1)|\\Psi_{HP}> + <\\Psi_{HP}|\\hat{h}(x_2)|\\Psi_{HP}> + <\\Psi_{HP}|\\frac{1}{r_{12}}|\\Psi_{HP}>      $$"
   ]
  },
  {
   "cell_type": "markdown",
   "id": "db9ad26a",
   "metadata": {},
   "source": [
    "we are then left with:"
   ]
  },
  {
   "cell_type": "markdown",
   "id": "41f7ddc8",
   "metadata": {},
   "source": [
    "$$ \\int dx_1 \\chi_i^*(x_1)\\hat{h}(x_1)\\chi_i(x_1) = h_1$$"
   ]
  },
  {
   "cell_type": "markdown",
   "id": "c7b3cffb",
   "metadata": {},
   "source": [
    "$$ \\int dx_2 \\chi_i^*(x_2)\\hat{h}(x_2)\\chi_i(x_2) = h_2$$"
   ]
  },
  {
   "cell_type": "markdown",
   "id": "5fcae769",
   "metadata": {},
   "source": [
    "and the Coulumb ( or hartree) integral"
   ]
  },
  {
   "cell_type": "markdown",
   "id": "d3af49c0",
   "metadata": {},
   "source": [
    "$$\\int \\int dx_1 dx_2  \\chi_i^*(x_1)\\chi_j^*(x_2) \\frac{1}{r_{12}} \\chi_i(x_1)\\chi_j(x_2)    = J_{ij}     $$"
   ]
  },
  {
   "cell_type": "markdown",
   "id": "bf6294bc",
   "metadata": {},
   "source": [
    "Which can also be expressed as:"
   ]
  },
  {
   "cell_type": "markdown",
   "id": "a55b288f",
   "metadata": {},
   "source": [
    "$$\\int \\int dx_1 dx_2 \\frac{n(x_1)n(x_2)}{r_{12}}    $$"
   ]
  },
  {
   "cell_type": "markdown",
   "id": "ec6079bc",
   "metadata": {},
   "source": [
    "as aforementioned, the hartree product has a serious problem since it violates the antisymmetry of electrons, to solve this, Fock and Slater came up with the idea to use Linear combinations of Hartree products, in what we now call a Slater Determinant. If we consider a system with 2 electrons, where there are 2 possible Hartree Products"
   ]
  },
  {
   "cell_type": "markdown",
   "id": "38db7f7d",
   "metadata": {},
   "source": [
    "$$ \\Psi_{HP}^1(x_1,x_2) = \\chi_i(x_1)\\chi_j(x_2)  $$ <br>\n",
    "$$ \\Psi_{HP}^2(x_2,x_1) =\\chi_i(x_2)\\chi_j(x_1)  $$ <br>"
   ]
  },
  {
   "cell_type": "markdown",
   "id": "2708461d",
   "metadata": {},
   "source": [
    "Note that neither of these are antisymmetric, but we can take their linear combination, specifically:"
   ]
  },
  {
   "cell_type": "markdown",
   "id": "bf30b905",
   "metadata": {},
   "source": [
    "$$ \\Psi_{SD}(x_1,x_2) = \\frac{1}{\\sqrt2}(  \\chi_i(x_1)\\chi_j(x_2) - \\chi_i(x_2)\\chi_j(x_1))$$ <br>"
   ]
  },
  {
   "cell_type": "markdown",
   "id": "2864d721",
   "metadata": {},
   "source": [
    "What happens when we use our Slater determinant to find the Expectation value for H_elec?"
   ]
  },
  {
   "cell_type": "markdown",
   "id": "d4a78632",
   "metadata": {},
   "source": [
    "$$ E_{HF} = <\\Psi_{SD}|\\hat{H}_{elec}|\\Psi_{SD}> = h_1 + h_2 + J_{12} - K_{12}        $$"
   ]
  },
  {
   "cell_type": "markdown",
   "id": "eba850fa",
   "metadata": {},
   "source": [
    "Where J is the coulomb integral and K the exchange integral"
   ]
  },
  {
   "cell_type": "markdown",
   "id": "26bcd423",
   "metadata": {},
   "source": [
    "Where J represents the Coulomb repulsion between 2 electrons, there is no classical analogy for the exchange integral. It represents the repulsion of 2 electrons with the same spin. Note why we did not include J_11-K_11 or J_22-K_22"
   ]
  },
  {
   "cell_type": "markdown",
   "id": "6eea8eef",
   "metadata": {},
   "source": [
    "Now that we have an expression for the HF energy, which we know is always greater than the true energy due to the variational principle, we can Try to minimize  E_HF by varying our wavefunction, which we can do by varying the Spin orbitals. Once the derivative of the energy wrt to the Spin orbitals reaches 0, we have reached our minimum, and have found the \"best\" HF orbitals an energy"
   ]
  },
  {
   "cell_type": "markdown",
   "id": "a517e36b",
   "metadata": {},
   "source": [
    "fock operator:"
   ]
  },
  {
   "cell_type": "markdown",
   "id": "76fa677a",
   "metadata": {},
   "source": [
    "$$ \\hat{f_i} = \\hat{h}_i  + \\sum_{j}^{N}(\\hat{J_j}-\\hat{K_j})  $$"
   ]
  },
  {
   "cell_type": "markdown",
   "id": "eb619d14",
   "metadata": {},
   "source": [
    "Hartree fock equation:"
   ]
  },
  {
   "cell_type": "markdown",
   "id": "889cd0c5",
   "metadata": {},
   "source": [
    "$$ \\hat{f_i}|\\chi_i> = \\epsilon_i|\\chi_i> $$"
   ]
  },
  {
   "cell_type": "markdown",
   "id": "1c21f2f3",
   "metadata": {},
   "source": [
    "We will talk more about the fock, coulomb, and Exchange operators next time, where we will also introduce The Self-consistent iterative solution in the HF method, and examine the computational implementation of HF."
   ]
  },
  {
   "cell_type": "markdown",
   "id": "bb038627",
   "metadata": {},
   "source": [
    "For homework, Try to write down the HF energy for a 3 electron SD wavefunction:"
   ]
  },
  {
   "cell_type": "markdown",
   "id": "df09a9eb",
   "metadata": {},
   "source": [
    "$$ E_{HF} = <\\Psi_{SD}|\\hat{H}_{elec}|\\Psi_{SD}> $$"
   ]
  },
  {
   "cell_type": "markdown",
   "id": "ceb1d7df",
   "metadata": {},
   "source": [
    "Show which/how the integrals will cancel out, but you dont need to do this for all cases. This problem can be quite long and tedious, but I think it gives a good handle of the components of HF Energy."
   ]
  },
  {
   "cell_type": "markdown",
   "id": "7a4e3b55",
   "metadata": {},
   "source": [
    "## "
   ]
  },
  {
   "cell_type": "markdown",
   "id": "c914463f",
   "metadata": {},
   "source": []
  },
  {
   "cell_type": "markdown",
   "id": "842ecfa6",
   "metadata": {},
   "source": [
    "\n"
   ]
  },
  {
   "cell_type": "code",
   "execution_count": null,
   "id": "fcd06c61",
   "metadata": {},
   "outputs": [],
   "source": []
  }
 ],
 "metadata": {
  "kernelspec": {
   "display_name": "psi4_1.8_pyscf_2.3.0",
   "language": "python",
   "name": "psi4_1.8_pyscf_2.3.0-py3.8.5"
  },
  "language_info": {
   "codemirror_mode": {
    "name": "ipython",
    "version": 3
   },
   "file_extension": ".py",
   "mimetype": "text/x-python",
   "name": "python",
   "nbconvert_exporter": "python",
   "pygments_lexer": "ipython3",
   "version": "3.8.5"
  }
 },
 "nbformat": 4,
 "nbformat_minor": 5
}
