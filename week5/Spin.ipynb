{
 "cells": [
  {
   "cell_type": "markdown",
   "id": "2ad0d149",
   "metadata": {},
   "source": [
    "### Spin: Open-Shell systems"
   ]
  },
  {
   "cell_type": "markdown",
   "id": "f94b2102",
   "metadata": {},
   "source": [
    "References:\n",
    "Psi4 3c tutorial: <br>\n",
    "https://github.com/psi4/psi4numpy/tree/master/Tutorials/03_Hartree-Fock <br>\n",
    "Chm673 Lecture 8: <br>\n",
    "https://github.com/slipchenko/CHM673 <br>\n",
    "Szabo 2.5"
   ]
  },
  {
   "cell_type": "markdown",
   "id": "46261979",
   "metadata": {},
   "source": [
    "So far we have only discussed closed shell systems, that is systems where every orbital is doubly occupied. Remember that we Restricted our wave function by having the spin up and spin down electrons occupy the same spatial orbital. This works pretty well for some systems, but is inadequate for many other situations. In particular, any open-shell system can not be described by a Restricted approach. There are 2 Solutions to this, Restricted-Open HF/KS, where doubly-occupied orbitals are used whenever possible, and Unrestricted HF/KS,  where the 2e- spatial orbitals are broken up into 2 1e- spin orbitals, that are allowed to differ in energy.\n",
    "\n",
    "Consider the lithum atom, which has 3 electrons. We can not model this with RHF as we have a lone electron. We can either restrict the core orbital to be the same, and relax our restriction on the singly occupied orbital(ROHF/ROKS), or we allow all orbitals to be different (UHF/UKS). Oftentimes, the UHF/UKS approach is the most straightforward:"
   ]
  },
  {
   "cell_type": "markdown",
   "id": "0bb36772",
   "metadata": {},
   "source": [
    "Recall that in RHF/RKS we set the restriction on our slater determinant that each orbital is doubly occupied, and thus solved for N/2 occupied orbitals using the Roothaan equations: <br>\n",
    "$$FC=SC\\epsilon$$\n",
    "\n",
    "In the unrestricted case, we now break this restriction, and solve for N occupied orbitals, using coupled Roothaan equations (known as the Pople–Nesbet–Berthier equations):\n",
    "\n",
    "$$F^\\alpha C^\\alpha =SC^\\alpha \\epsilon^\\alpha $$\n",
    "$$F^\\beta C^\\beta =SC^\\beta \\epsilon^\\beta $$\n",
    "\n",
    "\n",
    "Unlike for RHF, the orbital coefficient matrices ${\\bf C}^{\\alpha}$ and ${\\bf C}^{\\beta}$ are of dimension $M\\times N^{\\alpha}$ and $M\\times N^{\\beta}$, and the density matrices $D_{\\lambda\\sigma}^{\\alpha}$ and $D_{\\lambda\\sigma}^{\\beta}$ are given by\n",
    "\n",
    "\\begin{align}\n",
    "D_{\\lambda\\sigma}^{\\alpha} &= C_{\\sigma i}^{\\alpha}C_{\\lambda i}^{\\alpha}\\\\\n",
    "D_{\\lambda\\sigma}^{\\beta} &= C_{\\sigma i}^{\\beta}C_{\\lambda i}^{\\beta}.\n",
    "\\end{align}\n",
    "And the Fock matrices are given by the following:\n",
    "\n",
    "$$ F^\\alpha _{\\mu \\nu} = H_{\\mu \\nu}+ J_{\\mu \\nu}[D^\\alpha _{\\lambda \\sigma}+D^\\beta _{\\lambda \\sigma}] - K_{\\mu \\nu}D^\\alpha _{\\lambda \\sigma} $$\n",
    "\n",
    "$$ F^\\beta _{\\mu \\nu} = H_{\\mu \\nu}+ J_{\\mu \\nu}[D^\\alpha _{\\lambda \\sigma}+D^\\beta _{\\lambda \\sigma}] - K_{\\mu \\nu}D^\\beta _{\\lambda \\sigma} $$\n",
    "\n",
    "And lastly the Electronic UHF energy:\n",
    "\n",
    "\n",
    "\n",
    "\\begin{align}\n",
    "E^{\\rm UHF}_{\\rm elec} &= \\frac{1}{2}[({\\bf D}^{\\alpha} + {\\bf D}^{\\beta}){\\bf H} + \n",
    "{\\bf D}^{\\alpha}{\\bf F}^{\\alpha} + {\\bf D}^{\\beta}{\\bf F}^{\\beta}].\n",
    "\\end{align}"
   ]
  },
  {
   "cell_type": "markdown",
   "id": "1db6bbb1",
   "metadata": {},
   "source": [
    "Also, by using these approaches, we can calculate the ground state for different symmetries. I.e., for a ground state triplet, we can find the first singlet state, etc"
   ]
  },
  {
   "cell_type": "markdown",
   "id": "f8fe4696",
   "metadata": {},
   "source": [
    "###  Problems with UHF/UKS"
   ]
  },
  {
   "cell_type": "markdown",
   "id": "b364c805",
   "metadata": {},
   "source": [
    "Remember that the exact wave function is an eigenfunction of $\\hat{S}^2$ and $\\hat{S}_z$:<br>\n",
    "$$ \\hat{S}^2 | \\Phi > = S(S+1)| \\Phi > $$\n",
    "$$ \\hat{S}_z | \\Phi > = M_s| \\Phi > $$\n",
    "Closed Shell determinants are always Pure singlets, and are therefore always eigenstates of $\\hat{S}\\ ^2$: <br>\n",
    "$$\\hat{S}\\ ^2|\\psi_i \\bar{\\psi_i} \\psi_j \\bar{\\psi_j}> = 0(0+1)|\\psi_i \\bar{\\psi_i} \\psi_j \\bar{\\psi_j}>      $$ <br>\n",
    "But this is not true for Unrestricted Slater determianants, and therefore it is always important to check your S^2 when doing an unrestricted calculation, as higher spin excited states will be mixed in to your ground state calculation. this is called spin contamination.\n",
    "\n",
    "\n",
    "Also, it is very common for Unrestricted calculations to converge to the Restricted calculation without orbital mixing, which can be found under guess_mix in psi4, or by perturbing the inital density matrix of a spin, see last 2 calculations for example <br>"
   ]
  },
  {
   "cell_type": "code",
   "execution_count": 37,
   "id": "2f3d1ffe",
   "metadata": {
    "scrolled": true
   },
   "outputs": [],
   "source": [
    "from pyscf import dft, scf, gto, cc\n",
    "import numpy as np"
   ]
  },
  {
   "cell_type": "code",
   "execution_count": 44,
   "id": "a00fb0f6",
   "metadata": {},
   "outputs": [
    {
     "name": "stdout",
     "output_type": "stream",
     "text": [
      "converged SCF energy = -38.8601429104874\n"
     ]
    },
    {
     "data": {
      "text/plain": [
       "-38.86014291048739"
      ]
     },
     "execution_count": 44,
     "metadata": {},
     "output_type": "execute_result"
    }
   ],
   "source": [
    "ch2 = gto.M(atom =f\"\"\"\n",
    "        C\n",
    "        H 1 1.109\n",
    "        H 1 1.109 2 134\n",
    "        \"\"\", basis = 'cc-pvdz', charge=0 ,verbose=3)\n",
    "myhf=scf.RHF(ch2)\n",
    "myhf.kernel()"
   ]
  },
  {
   "cell_type": "code",
   "execution_count": 28,
   "id": "cf5d8491",
   "metadata": {
    "scrolled": true
   },
   "outputs": [
    {
     "name": "stdout",
     "output_type": "stream",
     "text": [
      "converged SCF energy = -38.8601429104876  <S^2> = 7.2253314e-13  2S+1 = 1\n"
     ]
    },
    {
     "data": {
      "text/plain": [
       "-38.860142910487646"
      ]
     },
     "execution_count": 28,
     "metadata": {},
     "output_type": "execute_result"
    }
   ],
   "source": [
    "ch2 = gto.M(atom =f\"\"\"\n",
    "        C\n",
    "        H 1 1.109\n",
    "        H 1 1.109 2 134\n",
    "        \"\"\", basis = 'cc-pvdz', charge=0 ,verbose=3)\n",
    "myhf=scf.UHF(ch2)\n",
    "myhf.kernel()"
   ]
  },
  {
   "cell_type": "code",
   "execution_count": 43,
   "id": "b8d16444",
   "metadata": {},
   "outputs": [
    {
     "name": "stdout",
     "output_type": "stream",
     "text": [
      "converged SCF energy = -38.9256087362264  <S^2> = 2.0169208  2S+1 = 3.0112594\n"
     ]
    },
    {
     "data": {
      "text/plain": [
       "-38.9256087362264"
      ]
     },
     "execution_count": 43,
     "metadata": {},
     "output_type": "execute_result"
    }
   ],
   "source": [
    "ch2 = gto.M(atom =f\"\"\"\n",
    "        C\n",
    "        H 1 1.109\n",
    "        H 1 1.109 2 134\n",
    "        \"\"\", basis = 'cc-pvdz', charge=0 ,verbose=3, spin =2)\n",
    "myhf=scf.UHF(ch2)\n",
    "myhf.kernel()"
   ]
  },
  {
   "cell_type": "code",
   "execution_count": 22,
   "id": "f53f3ed0",
   "metadata": {},
   "outputs": [
    {
     "name": "stdout",
     "output_type": "stream",
     "text": [
      "converged SCF energy = -39.0736946105704  <S^2> = 0.92134993  2S+1 = 2.1645784\n"
     ]
    },
    {
     "data": {
      "text/plain": [
       "-39.073694610570364"
      ]
     },
     "execution_count": 22,
     "metadata": {},
     "output_type": "execute_result"
    }
   ],
   "source": [
    "ch2 = gto.M(atom =f\"\"\"\n",
    "        C\n",
    "        H 1 1.109\n",
    "        H 1 1.109 2 134\n",
    "        \"\"\", basis = 'cc-pvdz', charge=0 ,verbose=3)\n",
    "mydft=scf.UKS(ch2)\n",
    "mydft.xc='pbe'\n",
    "mydft.kernel()"
   ]
  },
  {
   "cell_type": "code",
   "execution_count": 23,
   "id": "a915abb8",
   "metadata": {},
   "outputs": [
    {
     "name": "stdout",
     "output_type": "stream",
     "text": [
      "converged SCF energy = -39.0897678477669  <S^2> = 2.0057305  2S+1 = 3.0038179\n"
     ]
    },
    {
     "data": {
      "text/plain": [
       "-39.089767847766915"
      ]
     },
     "execution_count": 23,
     "metadata": {},
     "output_type": "execute_result"
    }
   ],
   "source": [
    "ch2 = gto.M(atom =f\"\"\"\n",
    "        C\n",
    "        H 1 1.109\n",
    "        H 1 1.109 2 134\n",
    "        \"\"\", basis = 'cc-pvdz', charge=0 ,verbose=3, spin=2)\n",
    "mydft=scf.UKS(ch2)\n",
    "mydft.xc='pbe'\n",
    "mydft.kernel()"
   ]
  },
  {
   "cell_type": "code",
   "execution_count": 24,
   "id": "2839a7b9",
   "metadata": {},
   "outputs": [
    {
     "name": "stdout",
     "output_type": "stream",
     "text": [
      "converged SCF energy = -39.0736946105704  <S^2> = 0.92134993  2S+1 = 2.1645784\n"
     ]
    },
    {
     "data": {
      "text/plain": [
       "-39.073694610570364"
      ]
     },
     "execution_count": 24,
     "metadata": {},
     "output_type": "execute_result"
    }
   ],
   "source": [
    "ch2 = gto.M(atom =f\"\"\"\n",
    "        C\n",
    "        H 1 1.109\n",
    "        H 1 1.109 2 134\n",
    "        \"\"\", basis = 'cc-pvdz', charge=0 ,verbose=3, spin=0)\n",
    "mydft=scf.UKS(ch2)\n",
    "mydft.xc='pbe'\n",
    "mydft.kernel()"
   ]
  },
  {
   "cell_type": "code",
   "execution_count": 46,
   "id": "7cb94c7a",
   "metadata": {},
   "outputs": [
    {
     "name": "stdout",
     "output_type": "stream",
     "text": [
      "\n",
      "WARN: HOMO -0.16101850030988066 > LUMO -0.16730237590942754 was found in the canonicalized orbitals.\n",
      "\n",
      "converged SCF energy = -39.041913030673\n"
     ]
    },
    {
     "data": {
      "text/plain": [
       "-39.041913030673"
      ]
     },
     "execution_count": 46,
     "metadata": {},
     "output_type": "execute_result"
    }
   ],
   "source": [
    "ch2 = gto.M(atom =f\"\"\"\n",
    "        C\n",
    "        H 1 1.109\n",
    "        H 1 1.109 2 134\n",
    "        \"\"\", basis = 'cc-pvdz', charge=0 ,verbose=3, spin=0)\n",
    "mydft=scf.RKS(ch2)\n",
    "mydft.xc='pbe'\n",
    "mydft = mydft.newton()\n",
    "mydft.kernel()"
   ]
  },
  {
   "cell_type": "markdown",
   "id": "2443e904",
   "metadata": {},
   "source": [
    "and lets compare to ccsd(t):"
   ]
  },
  {
   "cell_type": "code",
   "execution_count": 42,
   "id": "a1e46e37",
   "metadata": {},
   "outputs": [
    {
     "name": "stdout",
     "output_type": "stream",
     "text": [
      "converged SCF energy = -38.8601429104876  <S^2> = 7.2253314e-13  2S+1 = 1\n",
      "E(UCCSD) = -38.99934707739973  E_corr = -0.13920416691208\n",
      "UCCSD(T) correction = -0.00348187261254316\n",
      "-39.00282895001227\n"
     ]
    }
   ],
   "source": [
    "ch2 = gto.M(atom =f\"\"\"\n",
    "        C\n",
    "        H 1 1.109\n",
    "        H 1 1.109 2 134\n",
    "        \"\"\", basis = 'cc-pvdz', charge=0 ,verbose=3, spin=0)\n",
    "myhf=scf.UHF(ch2)\n",
    "myhf.kernel()\n",
    "ccsd = cc.UCCSD(myhf)\n",
    "ccsd.kernel()\n",
    "print(ccsd.e_tot + ccsd.ccsd_t())"
   ]
  },
  {
   "cell_type": "code",
   "execution_count": null,
   "id": "29b7d803",
   "metadata": {},
   "outputs": [],
   "source": [
    "ch2 = gto.M(atom =f\"\"\"\n",
    "        C\n",
    "        H 1 1.109\n",
    "        H 1 1.109 2 134\n",
    "        \"\"\", basis = 'cc-pvdz', charge=0 ,verbose=3, spin=0)\n",
    "mydft=scf.RKS(ch2)\n",
    "mydft.xc='pbe'\n",
    "mydft = mydft.newton()\n",
    "mydft.kernel()"
   ]
  },
  {
   "cell_type": "code",
   "execution_count": 78,
   "id": "31bd0521",
   "metadata": {},
   "outputs": [
    {
     "name": "stdout",
     "output_type": "stream",
     "text": [
      "converged SCF energy = -0.732688368197089  <S^2> = 1  2S+1 = 2.236068\n"
     ]
    },
    {
     "data": {
      "text/plain": [
       "-0.7326883681970886"
      ]
     },
     "execution_count": 78,
     "metadata": {},
     "output_type": "execute_result"
    }
   ],
   "source": [
    "from pyscf import gto, scf\n",
    "\n",
    "# Define the molecule\n",
    "mol = gto.M(atom='H 0 0 0; H 0 0 15', basis='aug-cc-pvtz', spin=0)\n",
    "\n",
    "# Set up the UHF calculation\n",
    "mf = scf.UHF(mol)\n",
    "\n",
    "# Optionally, customize the initial guess\n",
    "dm_alpha, dm_beta = mf.init_guess_by_minao()\n",
    "dm_beta *= 0.3  # Perturb the beta density matrix\n",
    "\n",
    "mf.kernel(dm0=(dm_alpha, dm_beta))\n"
   ]
  },
  {
   "cell_type": "code",
   "execution_count": 76,
   "id": "b16f4ef3",
   "metadata": {},
   "outputs": [
    {
     "name": "stdout",
     "output_type": "stream",
     "text": [
      "converged SCF energy = -0.732688417716811\n"
     ]
    },
    {
     "data": {
      "text/plain": [
       "-0.7326884177168109"
      ]
     },
     "execution_count": 76,
     "metadata": {},
     "output_type": "execute_result"
    }
   ],
   "source": [
    "from pyscf import gto, scf\n",
    "\n",
    "# Define the molecule\n",
    "mol = gto.M(atom='H 0 0 0; H 0 0 15', basis='aug-cc-pvtz', spin=0)\n",
    "\n",
    "mf = scf.RHF(mol)\n",
    "mf.kernel()\n"
   ]
  },
  {
   "cell_type": "code",
   "execution_count": null,
   "id": "529c2c24",
   "metadata": {},
   "outputs": [],
   "source": []
  }
 ],
 "metadata": {
  "kernelspec": {
   "display_name": "psi4_1.8_pyscf_2.3.0",
   "language": "python",
   "name": "psi4_1.8_pyscf_2.3.0-py3.8.5"
  },
  "language_info": {
   "codemirror_mode": {
    "name": "ipython",
    "version": 3
   },
   "file_extension": ".py",
   "mimetype": "text/x-python",
   "name": "python",
   "nbconvert_exporter": "python",
   "pygments_lexer": "ipython3",
   "version": "3.8.5"
  }
 },
 "nbformat": 4,
 "nbformat_minor": 5
}
